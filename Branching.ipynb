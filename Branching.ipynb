{
  "nbformat": 4,
  "nbformat_minor": 0,
  "metadata": {
    "colab": {
      "provenance": [],
      "authorship_tag": "ABX9TyPXLRIpTcvQcckGH3BEgSsb",
      "include_colab_link": true
    },
    "kernelspec": {
      "name": "python3",
      "display_name": "Python 3"
    },
    "language_info": {
      "name": "python"
    }
  },
  "cells": [
    {
      "cell_type": "markdown",
      "metadata": {
        "id": "view-in-github",
        "colab_type": "text"
      },
      "source": [
        "<a href=\"https://colab.research.google.com/github/CameliaRegista03/Python-Module/blob/main/Branching.ipynb\" target=\"_parent\"><img src=\"https://colab.research.google.com/assets/colab-badge.svg\" alt=\"Open In Colab\"/></a>"
      ]
    },
    {
      "cell_type": "markdown",
      "source": [
        "# **Referensi**\n",
        "\n",
        "- Learn Python the Hard Way: A very Simple Introduction to the Terrifyingly Beautiful World of Computers and Code, Zed Shaw\n",
        "\n",
        "  Bab 29,30, & 31\n",
        "\n",
        "- Think Python, Allen B.Downey\n",
        "\n",
        "  Chapter 5\n",
        "\n",
        "- Introduction to Computer Science and Programming in Python, MIT Opensource\n",
        "\n",
        "### **Capaian Belajar**\n",
        "\n",
        "- Dapat mengerti cara kerja dan implementasi dari Branching beserta penerapan Boolean di Python\n",
        "\n",
        "- Dapat mengerti cara kerja dan implementasi dari Nested Branching di Python\n",
        "\n",
        "### **Outline**\n",
        "\n",
        "- Introduction to Branching\n",
        "  - If\n",
        "  - If/Else\n",
        "  - Else if\n",
        "  - Branching + Boolean Logic\n",
        "\n",
        "Nested Branching"
      ],
      "metadata": {
        "id": "u99PMEUDoNHO"
      }
    },
    {
      "cell_type": "markdown",
      "source": [
        "## **Branching: Introduction to Branching I**\n",
        "\n",
        "- Branching atau percabangan adalah salah satu bentuk kontrol pada suatu program\n",
        "\n",
        "- Percabangan berguna untuk mengatur jalannya program sesuai dengan suatu kondisi yang terpenuhi\n",
        "\n",
        "- Percakapan juga mampu membuat sebuah program menentukan suatu tindakan sesuai dengan logika/kondisi yang ditentukan\n",
        "\n",
        "- Dalam pemrograman Python, terdapat tiga keywords untuk melakukan percabangan yaitu if, elif, dan else"
      ],
      "metadata": {
        "id": "xvJvsbaCssib"
      }
    },
    {
      "cell_type": "markdown",
      "source": [
        "**Contoh branching satu kondisi:**\n",
        "- Supermarket A memberikan harga diskon 15% kepada pelanggan yang bertransaksi belanja lebih dari Rp100.000. Wawan tertarik dengan promosi tersebut maka Wawan membeli kebutuhan Wawan dan ternyata didapatkan hasil:"
      ],
      "metadata": {
        "id": "o04x6rOtwk_9"
      }
    },
    {
      "cell_type": "code",
      "source": [
        "# Karena wawan tertarik, maka wawan belanja > Rp100.000\n",
        "Total_Belanja_Wawan = 500000\n",
        "Min_Belanja = 100000\n",
        "Diskon = 15/100\n",
        "if Total_Belanja_Wawan >= Min_Belanja:\n",
        "  print(f\"Maka Wawan Berhak mendapat 15%, sehingga total belanja wawan menjadi : \\n\",\n",
        "        Total_Belanja_Wawan - (Total_Belanja_Wawan * Diskon))"
      ],
      "metadata": {
        "colab": {
          "base_uri": "https://localhost:8080/"
        },
        "id": "AURUFKNzw0nk",
        "outputId": "b770edc6-8fb1-4f93-ac71-874b4829b545"
      },
      "execution_count": null,
      "outputs": [
        {
          "output_type": "stream",
          "name": "stdout",
          "text": [
            "Maka Wawan Berhak mendapat 15%, sehingga total belanja wawan menjadi : \n",
            " 425000.0\n"
          ]
        }
      ]
    },
    {
      "cell_type": "markdown",
      "source": [
        "**Contoh Branching dua kondisi**\n",
        "\n",
        "Buatkan branching untuk menelaah angka ganjil dan genap"
      ],
      "metadata": {
        "id": "EIBtYrQYCZuR"
      }
    },
    {
      "cell_type": "code",
      "source": [
        "# Membuat variabel angka\n",
        "angka = 9211\n",
        "\n",
        "if angka % 2 == 0:\n",
        "  print(\"Angka genap\")\n",
        "else:\n",
        "  print(\"Angka ganjil\")"
      ],
      "metadata": {
        "colab": {
          "base_uri": "https://localhost:8080/"
        },
        "id": "vv-I4m6uCYwz",
        "outputId": "2440419c-4a94-40d0-8d15-ebc52bf53077"
      },
      "execution_count": null,
      "outputs": [
        {
          "output_type": "stream",
          "name": "stdout",
          "text": [
            "Angka ganjil\n"
          ]
        }
      ]
    },
    {
      "cell_type": "markdown",
      "source": [
        "**Contoh branching else if / elif**\n",
        "\n",
        "Elif diperlukan ketika branching memiliki lebih dari 2 kondisi\n",
        "\n",
        "\n",
        "**Case Study**\n",
        "\n",
        "Karena didesak kebutuhan untuk menggunakan laptop tersebut, akhirnya Wawan mencari alternatif laptop lain dengan harga yang lebih murah. Setelah melakukan pencarian, dia mendapatkan tiga alternatif, yaitu laptop brand\n",
        "1. laptop 'aser' dengan harga 15 juta dan\n",
        "2. laptop 'asas' dengan harga 10 juta\n",
        "3. laptop 'Oman' dengan harga 9 juta.\n",
        "\n",
        "uang awan ada Rp15.000.000"
      ],
      "metadata": {
        "id": "759JQgLaIfYJ"
      }
    },
    {
      "cell_type": "code",
      "source": [
        "# Membuat variabel\n",
        "laptop_aser = 15000000\n",
        "laptop_asas = 10000000\n",
        "laptop_oman = 9000000\n",
        "uang_awan = 15000000\n",
        "\n",
        "# Branching 2 kondisi\n",
        "if uang_awan >= laptop_aser:\n",
        "  print(\"Beli laptop aser\")\n",
        "elif uang_awan >= laptop_asas:\n",
        "  print(\"Beli laptop asas\")\n",
        "elif uang_awan >= laptop_oman:\n",
        "  print(\"Beli laptop oman\")\n",
        "else:\n",
        "  print(\"Menabung dulu ya!\")\n"
      ],
      "metadata": {
        "colab": {
          "base_uri": "https://localhost:8080/"
        },
        "id": "hhEbSmOMIprh",
        "outputId": "e2366583-1bd9-4203-b3f5-1d8bb0b96add"
      },
      "execution_count": null,
      "outputs": [
        {
          "output_type": "stream",
          "name": "stdout",
          "text": [
            "Beli laptop aser\n"
          ]
        }
      ]
    },
    {
      "cell_type": "markdown",
      "source": [
        "**Mini Exercise**\n",
        "\n",
        "Anda makan di sebuah restoran. Anda ingin memesan menu sesuai dengan budget anda.\n",
        "\n",
        "1. Jika uang anda lebih dari sama dengan 100.000 maka anda memakan steak\n",
        "2. Jika uang anda lebih dari sama dengan 50.000 maka anda memakan spaghetti\n",
        "3. Jika uang anda kurang dari 50.000 maka anda memakan nasi goreng\n",
        "\n",
        "Budget uang anda sebesar 60.000 maka lengkapilah program branching dibawah ini\n",
        "\n"
      ],
      "metadata": {
        "id": "LFLd-7KndDVS"
      }
    },
    {
      "cell_type": "code",
      "source": [
        "# membuat variabel yang diketahui\n",
        "steak_price = 100000\n",
        "spaghetti_price = 50000\n",
        "nasi_goreng_price = 50000\n",
        "uang_nina = 60000\n",
        "\n",
        "# Branching\n",
        "if uang_nina >= steak_price:\n",
        "  print(\"Hore, kita makan Steak!\")\n",
        "elif uang_nina >= spaghetti_price:\n",
        "  print(\"Kita akan makan spaghetti aja ya :)\")\n",
        "elif uang_nina < nasi_goreng_price:\n",
        "  print(\"Tetap bersyukur, jangan lupa makan nasi gorengnya ya!\")\n",
        "else:\n",
        "  print(\"Besok cari duit yang banyak\")"
      ],
      "metadata": {
        "colab": {
          "base_uri": "https://localhost:8080/"
        },
        "id": "bEQg0HPWdJ1V",
        "outputId": "b97b237d-f746-429b-83b3-c6a7856604fb"
      },
      "execution_count": null,
      "outputs": [
        {
          "output_type": "stream",
          "name": "stdout",
          "text": [
            "Kita akan makan spaghetti aja ya :)\n"
          ]
        }
      ]
    },
    {
      "cell_type": "markdown",
      "source": [
        "##### **Exercise Boolean + Logic**\n",
        "1. Dalam sebuah aplikasi e-learning memiliki dua tipe pengguna yang pertama adalah admin, dan kedua user. Dalam aplikasi ini memiliki 2 orang admin, admin pertama memiliki username bernama RayhanNaufal, yang kedua adalah AriefRahman, selain itu adalah user. Buatlah program yang mendeteksi apakah dia admin atau user.\n",
        "\n",
        "2. Jika Universitas yang dipilih adalah ITB, maka akan masuk FMIPA\n",
        "Jika Universitas yang dipilih adalah UI, maka akan masuk Statistik\n",
        "Jika tidak memasuki Universitas selain kondisi di atas, maka Yuni akan mencari Universitas yang lain\n",
        "Buatlah kondisi Branching tersebut!\n",
        "\n",
        "3. Sebuah Toko Florist memberikan diskon 20% kepada pelanggan yang telah melakukan 3 transaksi sebelumnya. Akan memberi diskon 30% untuk pelanggan yang telah melakukan 7 kali transaksi sebelumnya. Gamal ingin membeli bouquet bunga dan sekarang merupakan transaksi yang ke 7 di Toko Florist tersebut\n",
        "Buat program Branching di bawah ini berdasarkan case diatas!\n",
        "\n"
      ],
      "metadata": {
        "id": "s9iZY33_fJGp"
      }
    },
    {
      "cell_type": "code",
      "source": [
        "# Jawaban nomor 1\n",
        "role = input(f\"Dengan siapa namanya? \") # Perintah meminta input nama (str)\n",
        "\n",
        "# Branching condition\n",
        "if role == \"Camel\" or role == \"Tika\":\n",
        "  print(f\"Selamat datang duhai Fasilitator {role}\")\n",
        "else:\n",
        "  print(f\"Selamat dtaang wahai Peserta {role} , ada yang bisa dibantu? \")"
      ],
      "metadata": {
        "colab": {
          "base_uri": "https://localhost:8080/"
        },
        "id": "2WcK4nYZfTE3",
        "outputId": "6af405ab-bbbb-4721-932a-8f00b5e7bf43"
      },
      "execution_count": null,
      "outputs": [
        {
          "output_type": "stream",
          "name": "stdout",
          "text": [
            "Selamat dtaang wahai Peserta Andi , ada yang bisa dibantu? \n"
          ]
        }
      ]
    },
    {
      "cell_type": "code",
      "source": [
        "# Jawaban nomor 2\n",
        "univ = input(f\"Guys, kamu masuk mana nih? \")\n",
        "user = input(f\"Namanya siapa? \")\n",
        "\n",
        "#Branching condition\n",
        "if univ == \"ITB\":\n",
        "  print(f\"Yeayyy, selamat {user} sudah masuk {univ} ini ya, silahkan masuk ke FMIPA\")\n",
        "elif univ == \"UI\":\n",
        "  print(f\"Cieeee, {user} sudah masuk {univ}, selamat data di keluarga jurusan Statistik\")\n",
        "else:\n",
        "  print(f\"{user}, maaf ya kamu bisa coba PDKT sama kampus lain yuk!\")"
      ],
      "metadata": {
        "colab": {
          "base_uri": "https://localhost:8080/"
        },
        "id": "d6OFxVUmnZdt",
        "outputId": "62f509e8-e63c-4d4d-8e02-cb2ec4b3965f"
      },
      "execution_count": null,
      "outputs": [
        {
          "output_type": "stream",
          "name": "stdout",
          "text": [
            "Guys, kamu masuk mana nih? UI\n",
            "Namanya siapa? camel\n",
            "Cieeee, camel sudah masuk UI, selamat data di keluarga jurusan Statistik\n"
          ]
        }
      ]
    },
    {
      "cell_type": "code",
      "source": [
        "# membuat variabel\n",
        "get_thirthy_percent= \"7\"\n",
        "get_twenty_percent = \"3\"\n",
        "user = input(f\"Kenalan donk, nama kamu siapa? \")\n",
        "transaction = input(f\"Berapa kali transaksi kamu? \")\n",
        "\n",
        "#Branching\n",
        "if transaction == get_thirthy_percent:\n",
        "  print(f\"Voillaaa, selamat kak {user} kakak berhak mendapat diskon sebesar 30% atas transaksi ke {transaction} nya\")\n",
        "elif transaction == get_twenty_percent:\n",
        "  print(f\"Nikmati diskon 20% nya kak {user} sebagai hadiah atas transaksi ke {transaction} nya\")\n",
        "else:\n",
        "  print(f\"Hayyu kak {user} gasskeun belanja lagi, biar dapat diskon\")"
      ],
      "metadata": {
        "colab": {
          "base_uri": "https://localhost:8080/"
        },
        "id": "4jt5nex7p50a",
        "outputId": "b01e305d-d569-40ba-9d47-849cde3f5e44"
      },
      "execution_count": null,
      "outputs": [
        {
          "output_type": "stream",
          "name": "stdout",
          "text": [
            "Kenalan donk, nama kamu siapa? Anin\n",
            "Berapa kali transaksi kamu? 3\n",
            "Nikmati diskon 20% nya kak Anin sebagai hadiah atas transaksi ke 3 nya\n"
          ]
        }
      ]
    },
    {
      "cell_type": "markdown",
      "source": [
        "#### **Branching: Nested Branching**\n",
        "\n",
        "- if di dalam if"
      ],
      "metadata": {
        "id": "TjDnHb-75mDF"
      }
    },
    {
      "cell_type": "markdown",
      "source": [
        "**Exercise**\n",
        "\n",
        "Dokter merawat seorang pasien yang sedang sakit, dokter memiliki beberapa kondisi diagnosa yaitu\n",
        "\n",
        "1. Jika pasien flu tanpa gejala sakit tenggorokan bahwa pasien sakit flu biasa\n",
        "2. Jika pasien flu ditambah dengan sakit tenggorokan maka pasien sakit radang tenggorokan\n",
        "3. Jika pasien flu ditambah sakit tenggorokan ditambah mual maka pasien sakit tonsilitis\n",
        "\n",
        "Ternyata terdapat pasien yang mengidap radang tenggorokan.\n",
        "\n",
        "Ubahlah variabel kondisi_1 dan kondisi_2 agar mengeluarkan diagnosa \"pasien sakit radang tenggorokan\""
      ],
      "metadata": {
        "id": "gNnGUvlc8Lts"
      }
    },
    {
      "cell_type": "code",
      "source": [
        "# Membuat variabel\n",
        "kondisi_pertama = \"flu\"\n",
        "kondisi_dua = \"flu\" and \"radang tenggorokan\"\n",
        "kondisi_tiga = \"flu\" and \"mual\"\n",
        "\n",
        "pasien = \"radang tenggorokan\"\n",
        "# Branching\n",
        "if kondisi_pertama == pasien:\n",
        "  print(\"Pasien mengidap flu biasa\")\n",
        "elif kondisi_dua == pasien:\n",
        "  print(\"Pasien mengidap sakit radang tenggorokan\")\n",
        "elif kondisi_tiga == pasien:\n",
        "  print(\"Pasien mengidap sakit tonsilitis\")\n",
        "else:\n",
        "  print(\"Belum diketahui\")\n",
        "\n",
        "\n",
        "# Cara Camel"
      ],
      "metadata": {
        "colab": {
          "base_uri": "https://localhost:8080/"
        },
        "id": "HmzlQYT18Uhx",
        "outputId": "ee113060-b753-4557-845a-8c33d9462c22"
      },
      "execution_count": null,
      "outputs": [
        {
          "output_type": "stream",
          "name": "stdout",
          "text": [
            "Pasien mengidap sakit radang tenggorokan\n"
          ]
        }
      ]
    },
    {
      "cell_type": "code",
      "source": [
        "# Membuat variabel\n",
        "\n",
        "kondisi_1 = True\n",
        "kondisi_2 = False\n",
        "\n",
        "if kondisi_1 == True:\n",
        "  if kondisi_2 == True:\n",
        "    print(\"Pasien sakit tonsilitis\")\n",
        "  else:\n",
        "    print(\"Pasien sakit radang tenggorokan\")\n",
        "else:\n",
        "  print(\"Pasien sakit flu biasa\")\n",
        "\n",
        "\n",
        "# Cara nested if"
      ],
      "metadata": {
        "colab": {
          "base_uri": "https://localhost:8080/"
        },
        "id": "IYs4iepL-m_I",
        "outputId": "0647d372-3f05-4e02-8fb3-4f403e84c898"
      },
      "execution_count": null,
      "outputs": [
        {
          "output_type": "stream",
          "name": "stdout",
          "text": [
            "Pasien sakit radang tenggorokan\n"
          ]
        }
      ]
    },
    {
      "cell_type": "markdown",
      "source": [
        "**Pass Steatment**\n",
        "\n",
        "Jika python bertemuu dengan steatment **pass**, maka Python tidak akan melakukan apapun dan akan lanjut ke line berikutnya\n",
        "\n",
        "**Exercise**\n",
        "\n",
        "Bono ingin membuat alarm sederhana jika genangan air di sekitar lingkungan rumahnya di atas 5 cm. Dia hanya ingin alarm berbunyi jika kondisi tersebut terjadi.\n",
        "\n",
        "Hari ini, walau situasi mulai menuju ke musim hujan genangan air di sekitar rumah Bono sebesar:\n",
        "\n",
        "Sistem peringatan Bono akan bekerja seperti ini:"
      ],
      "metadata": {
        "id": "FyQtw8Pz_eIM"
      }
    },
    {
      "cell_type": "code",
      "source": [
        "tinggi_genangan = 3\n",
        "\n",
        "if tinggi_genangan <= 5:\n",
        "  pass # jika if kondisi memenuhi maka tidak melakukan apa-apa\n",
        "\n",
        "else:\n",
        "  # jika kondisi melebih nilai ambang maka alarm berbunyi\n",
        "  print(\"Alarm berbunyi\")"
      ],
      "metadata": {
        "id": "JAAUrwl6_xaq"
      },
      "execution_count": null,
      "outputs": []
    }
  ]
}