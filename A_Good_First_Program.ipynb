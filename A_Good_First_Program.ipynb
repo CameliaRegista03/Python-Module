{
  "nbformat": 4,
  "nbformat_minor": 0,
  "metadata": {
    "colab": {
      "provenance": [],
      "authorship_tag": "ABX9TyMgZEJJSxK7mTmym5vihCD2",
      "include_colab_link": true
    },
    "kernelspec": {
      "name": "python3",
      "display_name": "Python 3"
    },
    "language_info": {
      "name": "python"
    }
  },
  "cells": [
    {
      "cell_type": "markdown",
      "metadata": {
        "id": "view-in-github",
        "colab_type": "text"
      },
      "source": [
        "<a href=\"https://colab.research.google.com/github/CameliaRegista03/Python-Module/blob/main/A_Good_First_Program.ipynb\" target=\"_parent\"><img src=\"https://colab.research.google.com/assets/colab-badge.svg\" alt=\"Open In Colab\"/></a>"
      ]
    },
    {
      "cell_type": "markdown",
      "source": [
        "# **Referensi**\n",
        "\n",
        "- Learn Python the Hard Way: A very Simple Introduction to the Terrifyingly Beautiful World of Computers and Code, Zed Shaw\n",
        "\n",
        "  Bab 1,2,4,5,6,7,9\n",
        "\n",
        "- Think Python, Allen B.Downey\n",
        "\n",
        "  Chapter 2\n",
        "\n",
        "# **Capaian Belajar**\n",
        "\n",
        "- Dapat mengerti cara kerja dan menggunakan Basic Operations yang ada di Python\n",
        "\n",
        "- Dapat mengerti dan dapat membuat variable di Python\n",
        "\n",
        "- Dapat mengetahui jenis-jenis error yang umum ditemui di Python\n",
        "\n",
        "\n",
        "# **Outline**\n",
        "\n",
        "- Printing\n",
        "- Variables\n",
        "- More Printing\n",
        "- Commenting\n",
        "- Error"
      ],
      "metadata": {
        "id": "RJcVRZD5HWLn"
      }
    },
    {
      "cell_type": "markdown",
      "source": [
        "## **A Good First Program: Printing**"
      ],
      "metadata": {
        "id": "BWxKws-UJNrQ"
      }
    },
    {
      "cell_type": "code",
      "source": [
        "# Menampilkan kalimat Hello World!\n",
        "print(\"Hello World!\")"
      ],
      "metadata": {
        "colab": {
          "base_uri": "https://localhost:8080/"
        },
        "id": "6vkpXD47JUYs",
        "outputId": "16279268-148e-4d68-e84a-1bd30627b44c"
      },
      "execution_count": null,
      "outputs": [
        {
          "output_type": "stream",
          "name": "stdout",
          "text": [
            "Hello World!\n"
          ]
        }
      ]
    },
    {
      "cell_type": "code",
      "source": [
        "# Menampilkan kalimat dengan Halo Dunia!\n",
        "print(\"Halo Dunia\")"
      ],
      "metadata": {
        "colab": {
          "base_uri": "https://localhost:8080/"
        },
        "id": "qvJSeoMmJn3t",
        "outputId": "8b228533-2466-47f3-f12f-32800ab4a74d"
      },
      "execution_count": null,
      "outputs": [
        {
          "output_type": "stream",
          "name": "stdout",
          "text": [
            "Halo Dunia\n"
          ]
        }
      ]
    },
    {
      "cell_type": "code",
      "source": [
        "# Menmapilkan nama kita\n",
        "print(\"Halo, Camelia!\")"
      ],
      "metadata": {
        "colab": {
          "base_uri": "https://localhost:8080/"
        },
        "id": "XFfS-XCiJ0nQ",
        "outputId": "e38f93f4-54c4-4cdf-f58f-0cc467b680a1"
      },
      "execution_count": null,
      "outputs": [
        {
          "output_type": "stream",
          "name": "stdout",
          "text": [
            "Halo, Camelia!\n"
          ]
        }
      ]
    },
    {
      "cell_type": "code",
      "source": [
        "# Contoh\n",
        "print(\"Saya suka belajar bahasa pemrograman Python\")"
      ],
      "metadata": {
        "colab": {
          "base_uri": "https://localhost:8080/"
        },
        "id": "ylbEfH73J8Is",
        "outputId": "5d3fc677-7d6b-4991-bdd5-1fa9cc25f24d"
      },
      "execution_count": null,
      "outputs": [
        {
          "output_type": "stream",
          "name": "stdout",
          "text": [
            "Saya suka belajar bahasa pemrograman Python\n"
          ]
        }
      ]
    },
    {
      "cell_type": "code",
      "source": [
        "# Contoh\n",
        "print(\"Saya sedang belajar melakukan print\")"
      ],
      "metadata": {
        "colab": {
          "base_uri": "https://localhost:8080/"
        },
        "id": "jFQkobZIKEv5",
        "outputId": "ae961acd-c1dd-4c8c-c8c0-1749f401c226"
      },
      "execution_count": null,
      "outputs": [
        {
          "output_type": "stream",
          "name": "stdout",
          "text": [
            "Saya sedang belajar melakukan print\n"
          ]
        }
      ]
    },
    {
      "cell_type": "code",
      "source": [
        "# Menampikan print angka\n",
        "print(20)"
      ],
      "metadata": {
        "colab": {
          "base_uri": "https://localhost:8080/"
        },
        "id": "YtSNX1uxKOeQ",
        "outputId": "20a77536-3d34-4e7f-814a-25ac6e1127fe"
      },
      "execution_count": null,
      "outputs": [
        {
          "output_type": "stream",
          "name": "stdout",
          "text": [
            "20\n"
          ]
        }
      ]
    },
    {
      "cell_type": "code",
      "source": [
        "# Kita ingin menampilkan angka (2,1)\n",
        "print(2,1)"
      ],
      "metadata": {
        "colab": {
          "base_uri": "https://localhost:8080/"
        },
        "id": "ntGmhsElKbLT",
        "outputId": "f1167449-b03b-4525-fe47-27b047f98631"
      },
      "execution_count": null,
      "outputs": [
        {
          "output_type": "stream",
          "name": "stdout",
          "text": [
            "2 1\n"
          ]
        }
      ]
    },
    {
      "cell_type": "code",
      "source": [
        "# Kita ingin print angka 23.1\n",
        "print(23.1)"
      ],
      "metadata": {
        "colab": {
          "base_uri": "https://localhost:8080/"
        },
        "id": "h0E5kggnKgd7",
        "outputId": "8752b337-e8b9-446e-ef50-e3dd13ef660e"
      },
      "execution_count": null,
      "outputs": [
        {
          "output_type": "stream",
          "name": "stdout",
          "text": [
            "23.1\n"
          ]
        }
      ]
    },
    {
      "cell_type": "code",
      "source": [
        "# Isi titik-titik dengan tanggal hari ini\n",
        "print(17)"
      ],
      "metadata": {
        "colab": {
          "base_uri": "https://localhost:8080/"
        },
        "id": "zYIlabtPKqIu",
        "outputId": "eaa1d6c2-9d8f-4f8e-8e70-d7a83bfa6b0f"
      },
      "execution_count": null,
      "outputs": [
        {
          "output_type": "stream",
          "name": "stdout",
          "text": [
            "17\n"
          ]
        }
      ]
    },
    {
      "cell_type": "markdown",
      "source": [
        "## **A Good First Program: Variables**\n",
        "\n",
        "nama_variabel = nilai yang diberi\n",
        "\n",
        "- **Good Example**, jika:\n",
        "  - Jelas dan ringkas\n",
        "  - Menggambarkan isi dari variabel\n",
        "  - Bukan merupakan keywords di Python\n",
        "  - Tidak mengandung karakter atau khusus, termasuk spasi\n",
        "  - Variabel hanya boleh diawali underscore atau huruf.\n",
        "  \n",
        "Contoh Good Varibel :\n",
        "```\n",
        "  diameter_lingkaran = 5\n",
        "```\n",
        "Ada rekomendasi cara membuat variabel yang baik, yaitu menggunakan: **pothole_case_naming** & **camelCase naming**\n",
        "\n",
        "\n",
        "- **Bad Example**, jika:\n",
        "    - Nama variabel terlalu pendek\n",
        "    - Nama variabel tidak dapat menggambarkan isi dari variabel\n",
        "    - Nama variabel diawali dengan angka\n",
        "    - Nama variabel sama antar 1 dan variabel 2\n",
        "    - Nama variabel terdapat simbol\n",
        "\n",
        "  Contoh Bad Variabel:\n",
        "```\n",
        "  diameter_lingkaran_yang_aku_punya\n",
        "```\n",
        "\n",
        "\n"
      ],
      "metadata": {
        "id": "SkhOiZNXLjch"
      }
    },
    {
      "cell_type": "code",
      "source": [
        "# Buatlah sebuah variabel yang akan menyimpan sisi sebuah persegi\n",
        "sisi_panjang = 6"
      ],
      "metadata": {
        "id": "UrWrSl_mLqKZ"
      },
      "execution_count": null,
      "outputs": []
    },
    {
      "cell_type": "code",
      "source": [
        "# Buatlah sebuah variabel yang menyimpan tanggal, bulan, dan tahun hari ini\n",
        "\n",
        "hari_ini = \"17-Agustus-2023\"\n",
        "print(hari_ini)"
      ],
      "metadata": {
        "colab": {
          "base_uri": "https://localhost:8080/"
        },
        "id": "1imsfMtxUxWF",
        "outputId": "159d2f01-e5cd-4b56-be7f-622652e7bba0"
      },
      "execution_count": null,
      "outputs": [
        {
          "output_type": "stream",
          "name": "stdout",
          "text": [
            "17-Agustus-2023\n"
          ]
        }
      ]
    },
    {
      "cell_type": "markdown",
      "source": [
        "## **A Good First Program: More Printing**\n",
        "\n",
        "### **Printing menggunakan Pemformatan (Formatting)**\n",
        "\n",
        "- Di dalam bahasa Python terdapat metode printing menggunakan pemformatan (formatting)\n",
        "\n",
        "- Ada dua cara atau style formatting di Python\n",
        "\n",
        "    - Style lama (menggunakan tanda persen %)\n",
        "    \n",
        "    - Style baru (menggunakan metode format())\n",
        "\n",
        "#### **Printing menggunakan %-formatting**\n",
        "\n",
        "- Metode printing ini merupakan style lama yang digunakan dalam pemformatan (formatting)\n",
        "\n",
        "- Printing menggunakan metode ini terbagi atas 2, yakni:\n",
        "\n",
        "  - %s : digunakan untuk melakukan print pada teks\n",
        "\n",
        "  - %d : digunakan untuk melakukan print pada angka\n",
        "\n",
        "#### **Printing menggunakan f-string**\n",
        "\n",
        "- Metode ini merupakan style baru yang digunakan dalam pemformatan\n",
        "\n",
        "- Metode ini memugkinkan kita untuk menyisipkan nilai suatu variabel ke dalam string\n",
        "\n",
        "- Hal ini lebih efisien dilakukan daripada kita menggabungkan string menggunakan tanda koma atau (concatenation)"
      ],
      "metadata": {
        "id": "ucM0a45jV09d"
      }
    },
    {
      "cell_type": "code",
      "source": [
        "# Buatlah code printing apapun itu\n",
        "teks = \"Saya sedang belajar printing\"\n",
        "print(teks)"
      ],
      "metadata": {
        "colab": {
          "base_uri": "https://localhost:8080/"
        },
        "id": "6oXOorbGV_16",
        "outputId": "01bc698c-c63d-444d-fc4c-0f344e7ca13d"
      },
      "execution_count": null,
      "outputs": [
        {
          "output_type": "stream",
          "name": "stdout",
          "text": [
            "Saya sedang belajar printing\n"
          ]
        }
      ]
    },
    {
      "cell_type": "code",
      "source": [
        "# Buatlah sebuah variabel yang berisi tempat lahir kita, kemudian tampilkan isinya\n",
        "tempat_lahir = \"Pandeglang\"\n",
        "print(tempat_lahir)"
      ],
      "metadata": {
        "colab": {
          "base_uri": "https://localhost:8080/"
        },
        "id": "RL40CWHYWa2q",
        "outputId": "2b266a42-2f01-41c1-a749-f497a08c6ecb"
      },
      "execution_count": null,
      "outputs": [
        {
          "output_type": "stream",
          "name": "stdout",
          "text": [
            "Pandeglang\n"
          ]
        }
      ]
    },
    {
      "cell_type": "code",
      "source": [
        "#Melakukan print formatting menggunakan style lama\n",
        "nama = \"Camelia\"\n",
        "tempat_tinggal = \"Mars\"\n",
        "pekerjaan = \"Mahasiswa\"\n",
        "usia = 21\n",
        "print(\"Halo, %s\" %nama)\n",
        "print(\"Saya tinggal di %s\" %tempat_tinggal)\n",
        "print(\"Pekerjaan saya adalah %s\" % pekerjaan)\n",
        "print(\"Usia saya saat ini %d\" % usia)"
      ],
      "metadata": {
        "id": "azgTwKGPyqA4"
      },
      "execution_count": null,
      "outputs": []
    },
    {
      "cell_type": "code",
      "source": [
        "# Melakukan print formatting menggunakan style lama\n",
        "nama = \"Budi\"\n",
        "umur = 22\n",
        "print(\"Halo, saya %s Saya berumus %s tahun\" % (nama, umur))"
      ],
      "metadata": {
        "id": "641ksDa1yujt"
      },
      "execution_count": null,
      "outputs": []
    },
    {
      "cell_type": "code",
      "source": [
        "# Melakukan print formatting menggunakan style baru\n",
        "nama = \"Budi\"\n",
        "umur = 23\n",
        "print(f\"Halo, saya {nama}. Saya berumur {umur} tahun\")"
      ],
      "metadata": {
        "id": "HaFNb4j0yzYd"
      },
      "execution_count": null,
      "outputs": []
    },
    {
      "cell_type": "code",
      "source": [
        "# Exercise\n",
        "\n",
        "harga_ayam = 15000\n",
        "harga_bumbu = 10000\n",
        "harga_beras = 50000\n",
        "total_belanja = harga_ayam + harga_bumbu + harga_beras\n",
        "\n",
        "print(f\"Hari ini saya pergi ke pasar, dengan membeli ayam seharga {harga_ayam},bumbu {harga_bumbu} dan beras dengan harga {harga_beras}. Adapun total belanja saya per hari ini adalah sebesar {total_belanja}\")"
      ],
      "metadata": {
        "id": "QXI5MB-Hy5oI"
      },
      "execution_count": null,
      "outputs": []
    },
    {
      "cell_type": "markdown",
      "source": [
        "## **A Good First Program: Python Commenting**\n",
        "\n",
        "- Commenting merupakan sebuah komentar yang digunakan untuk memperjelas maksud dari sebuah proses ataupun sebuah perintah\n",
        "\n",
        "- Apabila dijalankan commenting tidak akan melakukan apapun\n",
        "\n",
        "- Commenting diperlukan untuk mempermudah kita mengerti suatu program\n",
        "\n",
        "- Commenting juga akan mempermudah orang lain yang hendak membaca program kita kelak\n",
        "\n",
        "Terdapat 3 macam bentuk komentar, yaitu:\n",
        "\n",
        "- **Single Line**\n",
        "- **Inline**\n",
        "- **Multi Line**\n",
        "\n"
      ],
      "metadata": {
        "id": "UVzn4HyGf3bE"
      }
    },
    {
      "cell_type": "code",
      "source": [
        "# Contoh single Line Comment\n",
        "print(\"Ini adalah single line comment\")"
      ],
      "metadata": {
        "colab": {
          "base_uri": "https://localhost:8080/"
        },
        "id": "N8GAWwPKiJ7S",
        "outputId": "d393ef65-1add-47ab-b4b9-2915c9dc5a15"
      },
      "execution_count": null,
      "outputs": [
        {
          "output_type": "stream",
          "name": "stdout",
          "text": [
            "Ini adalah single line comment\n"
          ]
        }
      ]
    },
    {
      "cell_type": "code",
      "source": [
        "print(\"Ini adalah Inline Comment\") #Contoh inline comment"
      ],
      "metadata": {
        "colab": {
          "base_uri": "https://localhost:8080/"
        },
        "id": "-I9N9MeJidg_",
        "outputId": "a5308199-c5b9-44e8-bd3a-f3b79fd9a343"
      },
      "execution_count": null,
      "outputs": [
        {
          "output_type": "stream",
          "name": "stdout",
          "text": [
            "Ini adalah Inline Comment\n"
          ]
        }
      ]
    },
    {
      "cell_type": "code",
      "source": [
        "\"\"\"\n",
        "Muti Line Comment, cirinya menggunakan kutip ganda\n",
        "\"\"\""
      ],
      "metadata": {
        "colab": {
          "base_uri": "https://localhost:8080/",
          "height": 36
        },
        "id": "wxH5eTf3ioCV",
        "outputId": "a06021d9-38f0-4767-e554-2f3b9a4aa99f"
      },
      "execution_count": null,
      "outputs": [
        {
          "output_type": "execute_result",
          "data": {
            "text/plain": [
              "'\\nMuti Line Comment, cirinya menggunakan kutip ganda\\n'"
            ],
            "application/vnd.google.colaboratory.intrinsic+json": {
              "type": "string"
            }
          },
          "metadata": {},
          "execution_count": 38
        }
      ]
    },
    {
      "cell_type": "markdown",
      "source": [
        "## **Error and How to Solve**\n",
        "\n",
        "- Error merupakan hal yang wajar ditemui saat sedang membuat sebuah pemrograman\n",
        "\n",
        "- Melalui error jugalah kita semakin banyak belajar dan semakin memahami code yang telah kita buat\n",
        "\n",
        "Ada beberapa jenis error yang sering dialami, yakni :\n",
        "\n",
        "- Syntax Error\n",
        "- Indentation Error\n",
        "- Name Error"
      ],
      "metadata": {
        "id": "rNCBcwkTk8KE"
      }
    },
    {
      "cell_type": "code",
      "source": [
        "# Penulisan keyword PRINT akan menghasilkan error\n",
        "PRINT(\"Hello World!\")"
      ],
      "metadata": {
        "colab": {
          "base_uri": "https://localhost:8080/",
          "height": 179
        },
        "id": "AOPeNROumV4O",
        "outputId": "d02e4c40-7989-4c0e-9881-317b1dd10011"
      },
      "execution_count": null,
      "outputs": [
        {
          "output_type": "error",
          "ename": "NameError",
          "evalue": "ignored",
          "traceback": [
            "\u001b[0;31m---------------------------------------------------------------------------\u001b[0m",
            "\u001b[0;31mNameError\u001b[0m                                 Traceback (most recent call last)",
            "\u001b[0;32m<ipython-input-39-b431a2b05b4c>\u001b[0m in \u001b[0;36m<cell line: 1>\u001b[0;34m()\u001b[0m\n\u001b[0;32m----> 1\u001b[0;31m \u001b[0mPRINT\u001b[0m\u001b[0;34m(\u001b[0m\u001b[0;34m\"Hello World!\"\u001b[0m\u001b[0;34m)\u001b[0m\u001b[0;34m\u001b[0m\u001b[0;34m\u001b[0m\u001b[0m\n\u001b[0m",
            "\u001b[0;31mNameError\u001b[0m: name 'PRINT' is not defined"
          ]
        }
      ]
    },
    {
      "cell_type": "code",
      "source": [
        "# Penulisan indentasi yang salah sehingga menjadi indentation error\n",
        "print(\"Ini adalah code baris 1\")\n",
        "  print(\"Ini adalah code baris 2\")"
      ],
      "metadata": {
        "colab": {
          "base_uri": "https://localhost:8080/",
          "height": 143
        },
        "id": "OKiJoojxmlyR",
        "outputId": "172f9889-3944-4713-9bb4-e2d0bdd6b142"
      },
      "execution_count": null,
      "outputs": [
        {
          "output_type": "error",
          "ename": "IndentationError",
          "evalue": "ignored",
          "traceback": [
            "\u001b[0;36m  File \u001b[0;32m\"<ipython-input-40-4c54266a21a5>\"\u001b[0;36m, line \u001b[0;32m3\u001b[0m\n\u001b[0;31m    print(\"Ini adalah code baris 2\")\u001b[0m\n\u001b[0m    ^\u001b[0m\n\u001b[0;31mIndentationError\u001b[0m\u001b[0;31m:\u001b[0m unexpected indent\n"
          ]
        }
      ]
    },
    {
      "cell_type": "code",
      "source": [
        "# Penulisan nama variabel yang salah akan menghasilkan Name error\n",
        "\n",
        "nama = \"Camel\"\n",
        "print(name)"
      ],
      "metadata": {
        "colab": {
          "base_uri": "https://localhost:8080/",
          "height": 216
        },
        "id": "nVNmtvJbnBsL",
        "outputId": "7b030d39-e524-430f-9ce1-ab391bb21be5"
      },
      "execution_count": null,
      "outputs": [
        {
          "output_type": "error",
          "ename": "NameError",
          "evalue": "ignored",
          "traceback": [
            "\u001b[0;31m---------------------------------------------------------------------------\u001b[0m",
            "\u001b[0;31mNameError\u001b[0m                                 Traceback (most recent call last)",
            "\u001b[0;32m<ipython-input-41-a73e43bdc4b5>\u001b[0m in \u001b[0;36m<cell line: 4>\u001b[0;34m()\u001b[0m\n\u001b[1;32m      2\u001b[0m \u001b[0;34m\u001b[0m\u001b[0m\n\u001b[1;32m      3\u001b[0m \u001b[0mnama\u001b[0m \u001b[0;34m=\u001b[0m \u001b[0;34m\"Camel\"\u001b[0m\u001b[0;34m\u001b[0m\u001b[0;34m\u001b[0m\u001b[0m\n\u001b[0;32m----> 4\u001b[0;31m \u001b[0mprint\u001b[0m\u001b[0;34m(\u001b[0m\u001b[0mname\u001b[0m\u001b[0;34m)\u001b[0m\u001b[0;34m\u001b[0m\u001b[0;34m\u001b[0m\u001b[0m\n\u001b[0m",
            "\u001b[0;31mNameError\u001b[0m: name 'name' is not defined"
          ]
        }
      ]
    },
    {
      "cell_type": "code",
      "source": [],
      "metadata": {
        "id": "xWbOPE4PncR2"
      },
      "execution_count": null,
      "outputs": []
    }
  ]
}