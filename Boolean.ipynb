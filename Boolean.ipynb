{
  "nbformat": 4,
  "nbformat_minor": 0,
  "metadata": {
    "colab": {
      "provenance": [],
      "authorship_tag": "ABX9TyPpH+r07hIgc9g4siofG/Cc",
      "include_colab_link": true
    },
    "kernelspec": {
      "name": "python3",
      "display_name": "Python 3"
    },
    "language_info": {
      "name": "python"
    }
  },
  "cells": [
    {
      "cell_type": "markdown",
      "metadata": {
        "id": "view-in-github",
        "colab_type": "text"
      },
      "source": [
        "<a href=\"https://colab.research.google.com/github/CameliaRegista03/Python-Module/blob/main/Boolean.ipynb\" target=\"_parent\"><img src=\"https://colab.research.google.com/assets/colab-badge.svg\" alt=\"Open In Colab\"/></a>"
      ]
    },
    {
      "cell_type": "markdown",
      "source": [
        "# **Referensi**\n",
        "\n",
        "- Learn Python the Hard Way: A very Simple Introduction to the Terrifyingly Beautiful World of Computers and Code, Zed Shaw\n",
        "\n",
        "  Bab 27 & 28\n",
        "\n",
        "- Think Python, Allen B.Downey\n",
        "\n",
        "  Chapter 5\n",
        "\n",
        "### **Capaian Belajar**\n",
        "\n",
        "- Dapat mengerti cara kerja dan melakukan implementasi dari Boolean Operations di Python\n",
        "\n",
        "- Dapat mengerti cara kerja dan melakukan implementasi dari Boolean Logic di Python\n",
        "\n",
        "### **Outline**\n",
        "\n",
        "- **Introduction to Boolean**\n",
        "  - Boolean operators\n",
        "    - Operator Equality\n",
        "    - Operator Comparison\n",
        "\n",
        "  - Boolean Logic\n",
        "    - AND\n",
        "    - OR\n",
        "    - NOT\n",
        "\n",
        "\n"
      ],
      "metadata": {
        "id": "zisudVrChrLv"
      }
    },
    {
      "cell_type": "markdown",
      "source": [
        "## **Boolean: Introduction to Boolean**\n",
        "\n",
        "- Boolean adalah salah satu tipe data yang ada dalam bahasa pemrograman Python\n",
        "\n",
        "- Tipe data Boolean mempresentasikan salah satu dari dua nilai logika yaitu **True** atau **False**\n",
        "\n",
        "##### **Boolean Operations**\n",
        "\n",
        "- Bahasa pemrograman Python telah menyediakan operator Boolean yaitu **Comparison** dan **Equality**\n",
        "\n",
        "#### **Operator Equality**\n",
        "Operator equality adalah operator yang berfungsi untuk memeriksa **kesamaan** atau **ketidaksamaan** nilai satu dengan yang lain.\n",
        "\n",
        "| Operator  | Deskripsi                                        | Contoh Penggunaan           |\n",
        "|-----------|-------------------------------------------------|-----------------------------|\n",
        "| `==`      | Memeriksa apakah dua nilai sama.                | `2 == 2` (True)             |\n",
        "| `!=`      | Memeriksa apakah dua nilai tidak sama.          | `2 != 3` (True)             |\n",
        "\n",
        "\n",
        "#### **Operator Comparison**\n",
        "\n",
        "Operator Comparison adalah operator yang berfungsi untuk komparasi nilai satu dengan yang lain.\n",
        "\n",
        "| Operator  | Deskripsi                                              | Contoh Penggunaan        |\n",
        "|-----------|-------------------------------------------------------|--------------------------|\n",
        "| `<`       | Memeriksa apakah nilai di sebelah kiri lebih kecil dari nilai di sebelah kanan.      | `2 < 3` (True)           |\n",
        "| `>`       | Memeriksa apakah nilai di sebelah kiri lebih besar dari nilai di sebelah kanan.      | `4 > 2` (True)           |\n",
        "| `<=`      | Memeriksa apakah nilai di sebelah kiri kurang dari atau sama dengan nilai di sebelah kanan. | `3 <= 3` (True)     |\n",
        "| `>=`      | Memeriksa apakah nilai di sebelah kiri lebih besar dari atau sama dengan nilai di sebelah kanan. | `5 >= 4` (True) |"
      ],
      "metadata": {
        "id": "g-Fra1VUlM9e"
      }
    },
    {
      "cell_type": "markdown",
      "source": [
        "#### **Mini Exercise**\n",
        "###### **Mini Excersie Equality Operator**\n",
        "\n",
        "- Seorag petugas tiket pesawat sedang mencoocokan nomor pelanggan pada boarding pass pesawat dengan nomor penerbangan terdaftar pada database.\n",
        "\n",
        "    nomor_id_tiket = \"GA4272T7\"\n",
        "\n",
        "    nomor_id_tiket = \"GA4272T7\"\n",
        "\n",
        "###### **Mini Exercise Comparison Operator**\n",
        "\n",
        "- Nana ingin mengambil beasiswa S2 di luar negeri dengan persyaratan nilai IELTS minimal lebih sama dengan 5.5. Nilai yang di dapatkan oleh Nana adalah 6. Lakukan pengecekan apakah Nana berhak mendapatkan beasiswa berdasarkan nilai tersebut ?"
      ],
      "metadata": {
        "id": "2Y6GeJ_DrDFn"
      }
    },
    {
      "cell_type": "code",
      "source": [
        "# Mini Exercise Operator\n",
        "# Membuat variabel\n",
        "nomor_id_tiket = \"GA4272T7\"\n",
        "nomor_id_tiket = \"GA4272T7\"\n",
        "\n",
        "# Cek nomor\n",
        "nomor_id_tiket == nomor_id_tiket\n"
      ],
      "metadata": {
        "colab": {
          "base_uri": "https://localhost:8080/"
        },
        "id": "-s9za4-AnSJy",
        "outputId": "8522ba2e-dd28-45eb-ad6f-4f2927f188a8"
      },
      "execution_count": null,
      "outputs": [
        {
          "output_type": "execute_result",
          "data": {
            "text/plain": [
              "True"
            ]
          },
          "metadata": {},
          "execution_count": 10
        }
      ]
    },
    {
      "cell_type": "code",
      "source": [
        "# Mini exercise comparison\n",
        "# Membuat variabel\n",
        "nilai_min = 5.5\n",
        "nilai_Nana = 6\n",
        "\n",
        "Keputusan = nilai_Nana >= nilai_min\n",
        "\n",
        "print(f\"Keputusannya adalah {Keputusan}\")"
      ],
      "metadata": {
        "colab": {
          "base_uri": "https://localhost:8080/"
        },
        "id": "l4pzDR4gwpqK",
        "outputId": "b34c11f6-a71b-4540-800f-a62494454797"
      },
      "execution_count": null,
      "outputs": [
        {
          "output_type": "stream",
          "name": "stdout",
          "text": [
            "Keputusannya adalah True\n"
          ]
        }
      ]
    },
    {
      "cell_type": "markdown",
      "source": [
        "### **Boolean : Logic I**\n",
        "\n",
        "- Boolean logic terdiri dari :\n",
        "  - AND\n",
        "  - OR\n",
        "  - NOT\n",
        "\n",
        "- **AND**\n",
        "\n",
        "  Secara sederhana, AND memiliki karakteristik sebagai berikut :\n",
        "\n",
        "  - Nilai `TRUE` hanya diperoleh jika dua nilai bernilai `TRUE`\n",
        "\n",
        "  - Seacara fisik adalah irisan antara dua kondisi\n",
        "\n",
        "- **OR**\n",
        "\n",
        "Secara sederhana, `OR` memiliki karakteristik sebagai berikut :\n",
        "\n",
        "  - Nilai `TRUE` dapat diperoleh jika salah satu kondisi bernilai `TRUE`\n",
        "\n",
        "  - Secara fisik, `OR` adalah gabungan antara dua kondisi\n",
        "\n",
        "\n",
        "  | Urutan | Operator | Nama Operator       | Keterangan                                |\n",
        "|--------|----------|---------------------|------------------------------------------|\n",
        "| 1      | `!`      | NOT                 | Negasi (kebalikan) dari suatu nilai       |\n",
        "| 2      | `&&`     | AND                 | Bernilai `true` jika kedua nilai `true`   |\n",
        "| 3      | `||`     | OR                  | Bernilai `true` jika salah satu nilai `true`  |\n",
        "| 4      | `^`      | XOR (Exclusive OR) | Bernilai `true` jika nilai berbeda        |\n",
        "\n"
      ],
      "metadata": {
        "id": "-xXYd-d5yI7J"
      }
    },
    {
      "cell_type": "code",
      "source": [
        "# Penggunaan AND pada python\n",
        "\n",
        "# Kondisi TRUE\n",
        "print(True and True)\n",
        "\n",
        "# Kondisi FALSE\n",
        "print(True and False)"
      ],
      "metadata": {
        "colab": {
          "base_uri": "https://localhost:8080/"
        },
        "id": "Uw3eQUqj0Vlv",
        "outputId": "de4d7bd2-6893-49e8-d625-24b0573183bd"
      },
      "execution_count": null,
      "outputs": [
        {
          "output_type": "stream",
          "name": "stdout",
          "text": [
            "True\n",
            "False\n"
          ]
        }
      ]
    },
    {
      "cell_type": "markdown",
      "source": [
        "##### **Mini Exercise AND**\n",
        "\n",
        "- Perusahaan memberikan  bonus insentif untuk karyawan yang masuk tepat waktu dan juga setidaknya 1 kali lembur dalam sebulan. Pak Wora pernah melakukan lembur namun ia pernah terlambat. Maka, buatlah boolean logic sesuai dengan kondisi Pak Wira.\n",
        "\n",
        "- Pada perusahaan A memiliki 3 karyawan yang terdiri dari 2 karyawan Fresh Graduate dan 1 karyawan senior. Pada setiap tanggal 28 karyawan akan mendapatkan gaji. 2 Karyawan Fresh Graduate mendapatkan gaji 15 juta dan 1 karyawan senior mendapatkan 15 juta rupiah. Dalam perusahaan tersebut karyawan Fresh Graduate mendapatkan gaji yang lebih rendah dibandingkan karyawan senior. Berdasarkan pernyataan tersebut, apakah 2 karyawan Fresh Graduate naik jabatan dibulan ini?\n",
        "\n",
        "\n"
      ],
      "metadata": {
        "id": "JGugZjSv1OQH"
      }
    },
    {
      "cell_type": "code",
      "source": [
        "# Jawaban soal 1\n",
        "Lembur = True\n",
        "Tepat = False\n",
        "\n",
        "pak_iwan = Lembur and Tepat\n",
        "print(f\"Maka kesimpulannya Pak Iwan akan mendapatkan insentif adalah {pak_iwan}\")"
      ],
      "metadata": {
        "colab": {
          "base_uri": "https://localhost:8080/"
        },
        "id": "iTCxYfUI0y11",
        "outputId": "adf889f9-68d6-46b7-eb5c-fde2cc9d5d59"
      },
      "execution_count": null,
      "outputs": [
        {
          "output_type": "stream",
          "name": "stdout",
          "text": [
            "Maka kesimpulannya Pak Iwan akan mendapatkan insentif adalah False\n"
          ]
        }
      ]
    },
    {
      "cell_type": "code",
      "source": [
        "# Jawaban soal 2\n",
        "karyawan_fg1 = 15000000\n",
        "karyawan_fg2 = 15000000\n",
        "karyawan_senior = 15000000\n",
        "\n",
        "karyawan_fg1 == karyawan_senior and karyawan_fg2 == karyawan_senior\n"
      ],
      "metadata": {
        "colab": {
          "base_uri": "https://localhost:8080/"
        },
        "id": "eOJEapm1eDQ_",
        "outputId": "cb2b98e8-f1c5-4804-c658-150b42769c94"
      },
      "execution_count": null,
      "outputs": [
        {
          "output_type": "execute_result",
          "data": {
            "text/plain": [
              "True"
            ]
          },
          "metadata": {},
          "execution_count": 14
        }
      ]
    },
    {
      "cell_type": "markdown",
      "source": [
        "##### **Mini case OR**\n",
        "\n",
        "- Pengguna aplikasi e-commerce mendapatkan voucher belanja jika memenuhi salah satu ketentuan yaitu belanja 7 hari berturut-turut atau belanja lebih dari 1 juta. Hilmi tidak belanja 7 hari berturut-turut ia telah melakukan transaksi 1 juta, apakah Hilmi mendapatkan voucher belanja ? (True/False)\n"
      ],
      "metadata": {
        "id": "jJSY5HGhn4nh"
      }
    },
    {
      "cell_type": "code",
      "source": [
        "# Membuat logic variabel\n",
        "belanja = False\n",
        "belanja_satu_juta = True\n",
        "\n",
        "# Memeriksa logic\n",
        "get_voucher = belanja or belanja_satu_juta\n",
        "print(f\"Mas Hilmi {get_voucher} mendapatkan voucher belanja\")"
      ],
      "metadata": {
        "colab": {
          "base_uri": "https://localhost:8080/"
        },
        "id": "hal_jEdZoOdU",
        "outputId": "777d8b99-837a-406c-987f-bc549b961435"
      },
      "execution_count": null,
      "outputs": [
        {
          "output_type": "stream",
          "name": "stdout",
          "text": [
            "Mas Hilmi True mendapatkan voucher belanja\n"
          ]
        }
      ]
    },
    {
      "cell_type": "markdown",
      "source": [
        "### **Boolean: Boolean Logic II**\n",
        "\n",
        "##### **Not**\n",
        "Secara sederhana, `not` memiliki karakteristik sebagai berikut :\n",
        "\n",
        "- Merupakan negasi dari nilai sebelumnya\n",
        "- Negasi adalah penyangkalam atau peniadaan dari suatu pernyataan\n",
        "- Jika nilai sebelumnya adalah `TRUE`, maka akan menghasilkan `False` dan sebaliknya\n",
        "- Biasanya jarang digunakan `not` secara sendiri\n",
        "- Biasanya `not` digunakan bersamaan dengan `and` atau `or`"
      ],
      "metadata": {
        "id": "aOh6xdjxqnff"
      }
    },
    {
      "cell_type": "code",
      "source": [
        "not True == True"
      ],
      "metadata": {
        "colab": {
          "base_uri": "https://localhost:8080/"
        },
        "id": "I8lHBLADroTq",
        "outputId": "8b36dc36-b9d0-4ff0-b568-5288114e095e"
      },
      "execution_count": null,
      "outputs": [
        {
          "output_type": "execute_result",
          "data": {
            "text/plain": [
              "False"
            ]
          },
          "metadata": {},
          "execution_count": 16
        }
      ]
    },
    {
      "cell_type": "code",
      "source": [
        "not False == True"
      ],
      "metadata": {
        "colab": {
          "base_uri": "https://localhost:8080/"
        },
        "id": "ncfuVjUes45M",
        "outputId": "8b203989-b9cf-48be-fddd-ce4bf7599b64"
      },
      "execution_count": null,
      "outputs": [
        {
          "output_type": "execute_result",
          "data": {
            "text/plain": [
              "True"
            ]
          },
          "metadata": {},
          "execution_count": 17
        }
      ]
    },
    {
      "cell_type": "code",
      "source": [
        "angka_3 = 2\n",
        "\n",
        "angka_3 < 15 and angka_3 > 5 or not angka_3 > 7\n",
        "\n"
      ],
      "metadata": {
        "colab": {
          "base_uri": "https://localhost:8080/"
        },
        "id": "_zLO7fs4veSc",
        "outputId": "d8286ede-8151-421f-ff3e-1c1e72fd3de3"
      },
      "execution_count": null,
      "outputs": [
        {
          "output_type": "execute_result",
          "data": {
            "text/plain": [
              "True"
            ]
          },
          "metadata": {},
          "execution_count": 23
        }
      ]
    },
    {
      "cell_type": "markdown",
      "source": [
        "##### **Mini Exercise**\n",
        "\n",
        "- Pak Joko membandingkan harga stock produk barang kecantikan pada kedua suplier berbeda. Suplier pertama menawarkan 10 kardus isi produk kecantikan Nivae dengan harga 1.500.000 rupiah. Sedangkan suplier kedua menawarkan 12 kardus isi produk kecantikan Garneir dengan harga 1.700.000 rupiah. Dengan kedua harga tersebut Pak Joko memprioritaskan untuk menekan budgetnya dengan membeli stock produk yang paling murah yaitu dengan cara mempertimangkan harga per kardusnya. Buatlah operasi matematika perbandingan stock produk barang kecantikan apakah harga produk Nivea lebih besar dari harga Garneir dalam Python!"
      ],
      "metadata": {
        "id": "Tat-WWq0bctf"
      }
    },
    {
      "cell_type": "code",
      "source": [
        "# Membuat variabel diketaui\n",
        "Nivea_product = 1500000\n",
        "Garnier_product = 1700000\n",
        "qty_nivea = 10\n",
        "qty_garnier = 12\n",
        "\n",
        "# Membuat variabel harga satuan\n",
        "harga_satuan_nivea = Nivea_product/qty_nivea\n",
        "harga_satuan_garnier = Garnier_product/qty_garnier\n",
        "\n",
        "#Comparison\n",
        "harga_satuan_nivea > harga_satuan_garnier"
      ],
      "metadata": {
        "colab": {
          "base_uri": "https://localhost:8080/"
        },
        "id": "CTbw32WfcoK7",
        "outputId": "d34b970e-d97e-4bbd-8595-ef3e190d9541"
      },
      "execution_count": null,
      "outputs": [
        {
          "output_type": "execute_result",
          "data": {
            "text/plain": [
              "True"
            ]
          },
          "metadata": {},
          "execution_count": 3
        }
      ]
    },
    {
      "cell_type": "markdown",
      "source": [
        "## **Case Study 1 : Membuat Fitur Voucher pada Aplikasi**\n",
        "\n",
        "Start Up ditempat Haris bekerja dengan timnya sedang melakukan pengujian testing aplikasinya pada fitur dalam mendapatkan voucher belanja untuk user\n",
        "\n",
        "| Jenis Voucher           | Nama Variabel    | Tipe Data     |\n",
        "|-------------------------|------------------|---------------|\n",
        "| Voucher Gratis Ongkir    | get_free_shipping | Boolean       |\n",
        "| Voucher Cashback         | get_cashback     | Boolean       |\n",
        "| Voucher Potongan Harga   | get_discount     | Boolean       |\n",
        "| Voucher Pengguna Baru    | get_newuser      | Boolean       |\n",
        "\n",
        "Terdapat beberapa user jenis yang mendapatkan voucher:\n",
        "\n",
        "1. Pengguna baru mendapatkan voucher pengguna baru saja\n",
        "2. Pengguna lama yang mendapatkan voucher gratis ongkir saja\n",
        "3. pengguna lama yang mendapatkan voucher potongan harga saja\n",
        "4. pengguna lama yang membeli barang mahal mendapatkan voucher gratis ongkir,cashback\n",
        "5. pengguna lama yang membeli barang mahal mendapatkan voucher gratis ongkir, voucher cashback dan potongan harga\n",
        "\n",
        "semua pengguna harus menggunakan semua variabel yang berada pada tabel\n",
        "\n"
      ],
      "metadata": {
        "id": "fXSg1KGUfVDE"
      }
    },
    {
      "cell_type": "code",
      "source": [
        "# Membuat variabel kriteria 1\n",
        "get_free_shipping = False\n",
        "get_cashback = False\n",
        "get_discount = False\n",
        "get_newuser = True"
      ],
      "metadata": {
        "id": "rOpr38anf8pG"
      },
      "execution_count": null,
      "outputs": []
    },
    {
      "cell_type": "code",
      "source": [
        "# Membuat variabel kriteria 2\n",
        "get_free_shipping = True\n",
        "get_cashback = False\n",
        "get_discount = False\n",
        "get_newuser = False"
      ],
      "metadata": {
        "id": "2S2xEh18jTYt"
      },
      "execution_count": null,
      "outputs": []
    },
    {
      "cell_type": "code",
      "source": [
        "# Membuat variabel keriteria 3\n",
        "get_free_shipping = False\n",
        "get_cashback = False\n",
        "get_discount = True\n",
        "get_newuser = False"
      ],
      "metadata": {
        "id": "0R7cNIxqj1iQ"
      },
      "execution_count": null,
      "outputs": []
    },
    {
      "cell_type": "code",
      "source": [
        "# Membuat variabel kriteria 4\n",
        "get_free_shipping = True\n",
        "get_cashback = True\n",
        "get_discount = False\n",
        "get_newuser = False"
      ],
      "metadata": {
        "id": "Js3mZe1Bj738"
      },
      "execution_count": null,
      "outputs": []
    },
    {
      "cell_type": "code",
      "source": [
        "# Membuat variabel kriteria 5\n",
        "get_free_shipping = True\n",
        "get_cashback = True\n",
        "get_discount = True\n",
        "get_newuser = False"
      ],
      "metadata": {
        "id": "G2yexy9ekBhb"
      },
      "execution_count": null,
      "outputs": []
    }
  ]
}