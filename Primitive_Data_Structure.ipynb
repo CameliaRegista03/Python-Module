{
  "nbformat": 4,
  "nbformat_minor": 0,
  "metadata": {
    "colab": {
      "provenance": [],
      "authorship_tag": "ABX9TyOnIirm0sXwBrVOH1s1aIeL",
      "include_colab_link": true
    },
    "kernelspec": {
      "name": "python3",
      "display_name": "Python 3"
    },
    "language_info": {
      "name": "python"
    }
  },
  "cells": [
    {
      "cell_type": "markdown",
      "metadata": {
        "id": "view-in-github",
        "colab_type": "text"
      },
      "source": [
        "<a href=\"https://colab.research.google.com/github/CameliaRegista03/Python-Module/blob/main/Primitive_Data_Structure.ipynb\" target=\"_parent\"><img src=\"https://colab.research.google.com/assets/colab-badge.svg\" alt=\"Open In Colab\"/></a>"
      ]
    },
    {
      "cell_type": "markdown",
      "source": [
        "# **Referensi**\n",
        "\n",
        "- Learn Python the Hard Way: A very Simple Introduction to the Terrifyingly Beautiful World of Computers and Code, Zed Shaw\n",
        "\n",
        "  Bab 3,4,6\n",
        "\n",
        "- Think Python, Allen B.Downey\n",
        "\n",
        "  Chapter 2,8\n",
        "\n",
        "# **Capaian Belajar**\n",
        "\n",
        "- Dapat memahami jenis primitive data structure yang ada di python\n",
        "- Dapat mengerti cara order of operation di Python\n",
        "- Dapat mengerti cara kerja dari method yang ada dalam string\n",
        "- Dapat mengerti implementasi proses matematik dengan menggabungkan primitive data structure & order operations\n",
        "- Dapat melakukan implementasi string operations\n",
        "\n",
        "# **Outline**\n",
        "- Primitive Data Structure in Python\n",
        "- Order of Operations (PEMDAS)\n",
        "- String\n",
        "\n"
      ],
      "metadata": {
        "id": "bNXpdxs9t0JN"
      }
    },
    {
      "cell_type": "markdown",
      "source": [
        "## **Primitive Data Structure: Primitive Data Structure in Python**\n",
        "\n",
        "**data structure** adalah cara mengatur dan menyimpan data sehingga dapat diakses dan diolah dengan efisien. Ada dua jenis data structure pada Python yaitu primitive data structure dan non-primitive data structure **(composit data structure)**. Secara umum, Python memiliki empat struktur data primitif :\n",
        "\n",
        "- **Integer** = Bilangan bulat\n",
        "- **Float** = Bilangan rasional\n",
        "- **String** = Kumpulan Huruf\n",
        "- **Boolean**"
      ],
      "metadata": {
        "id": "QfZFVIa4vQX9"
      }
    },
    {
      "cell_type": "code",
      "source": [
        "# Print integer\n",
        "print(1)\n",
        "\n",
        "# Cek tipe data secara langsung\n",
        "print(type(1))\n",
        "\n",
        "# cek tipe data dengan variabel\n",
        "int_1 = 1\n",
        "print(type(int_1))"
      ],
      "metadata": {
        "colab": {
          "base_uri": "https://localhost:8080/"
        },
        "id": "th3gBmr0w1OO",
        "outputId": "580e8c80-da30-4a4e-8eb9-45d13be7d4de"
      },
      "execution_count": null,
      "outputs": [
        {
          "output_type": "stream",
          "name": "stdout",
          "text": [
            "1\n",
            "<class 'int'>\n",
            "<class 'int'>\n"
          ]
        }
      ]
    },
    {
      "cell_type": "code",
      "source": [
        "# Print float\n",
        "print(3.14)\n",
        "\n",
        "# Cek tipe data secara langsung\n",
        "print(type(3.14))\n",
        "\n",
        "# cek tipe data dengan variabel\n",
        "float_1 = 3.14\n",
        "print(type(float_1))"
      ],
      "metadata": {
        "colab": {
          "base_uri": "https://localhost:8080/"
        },
        "id": "XWRGkt2-xbxs",
        "outputId": "cf2f9d51-0e19-4b76-db7a-c754aa5ad9f0"
      },
      "execution_count": null,
      "outputs": [
        {
          "output_type": "stream",
          "name": "stdout",
          "text": [
            "3.14\n",
            "<class 'float'>\n",
            "<class 'float'>\n"
          ]
        }
      ]
    },
    {
      "cell_type": "markdown",
      "source": [
        "## **Operasi Matematika Pada Python**\n",
        "\n",
        "Operator adalah simbol khusus yang mewakili perhitungan seperti penambahan dan pengurangan\n",
        "\n",
        "| Operasi             | Deskripsi                             | Contoh           |\n",
        "|---------------------|---------------------------------------|------------------|\n",
        "| Penjumlahan         | Menambahkan dua bilangan              | `3 + 5` = 8      |\n",
        "| Pengurangan         | Mengurangkan satu bilangan dari yang lain | `10 - 4` = 6    |\n",
        "| Perkalian           | Mengalikan dua bilangan               | `6 * 7` = 42     |\n",
        "| Pembagian           | Membagi satu bilangan dengan yang lain | `20 / 4` = 5     |\n",
        "| Pembagian Bulat     | Membagi dan membulatkan ke bawah      | `15 // 2` = 7    |\n",
        "| Modulus             | Sisa pembagian dua bilangan           | `15 % 4` = 3     |\n",
        "| Pangkat             | Menghitung pangkat dua bilangan       | `2 ** 3` = 8     |\n",
        "\n",
        "\n",
        "### **Operasi matematika dengan variabel**\n",
        "\n",
        "```\n",
        "var_1 = 1\n",
        "var_2 = 2\n",
        "sum_var = var_1 + var_2\n",
        "```\n",
        "\n",
        "\n"
      ],
      "metadata": {
        "id": "SLY4KlzSzh84"
      }
    },
    {
      "cell_type": "markdown",
      "source": [
        "##### **Mini Exercise**\n",
        "\n",
        "1. Pak Hartono agak kesal karena harga BB, naik dari Rp 7650 per liter menjadi Rp10.000 per liter. Jika sebelumnya beliau membeli Rp20.000 sudah full tank, berapa liter yang harus dibayar Pak Hartono jika ingin mengisi full tank dengan harga yang baru ?\n",
        "\n",
        "\n",
        "\n"
      ],
      "metadata": {
        "id": "T88Yfsbk18bz"
      }
    },
    {
      "cell_type": "code",
      "source": [
        "# Mendefinisikan variabel diketahui\n",
        "harga_lama = 7650\n",
        "harga_baru = 10000\n",
        "full_tank_lama = 20000\n",
        "\n",
        "# Mencari qty full tank harga lama\n",
        "qty_harga_lama = full_tank_lama / harga_lama\n",
        "qty_harga_lama\n",
        "\n",
        "# Mencari harga full tank harga baru\n",
        "full_tank_baru = qty_harga_lama * harga_baru\n",
        "full_tank_baru\n",
        "\n",
        "print(f\"Jadi, kesimpulannya adalah Pak Hartono dapat membeli bensin \\n\"\n",
        "f\"secara full tank dengan harga baru adalah sebesar Rp{full_tank_baru}. \\n\"\n",
        "f\"Hal tersebut di dapat setelah kita mengetahui quantity full tank \\n\"\n",
        "f\"harga sebelumnya.\")\n"
      ],
      "metadata": {
        "colab": {
          "base_uri": "https://localhost:8080/"
        },
        "id": "0H93Cn-L3Bza",
        "outputId": "be5e4b98-8b75-43a0-e9d9-7dab860ad9eb"
      },
      "execution_count": null,
      "outputs": [
        {
          "output_type": "stream",
          "name": "stdout",
          "text": [
            "Jadi, kesimpulannya adalah Pak Hartono dapat membeli bensin \n",
            "secara full tank dengan harga baru adalah sebesar Rp26143.7908496732. \n",
            "Hal tersebut di dapat setelah kita mengetahui quantity full tank \n",
            "harga sebelumnya.\n"
          ]
        }
      ]
    },
    {
      "cell_type": "markdown",
      "source": [
        "## **Primitive Data Structure: Order of Operations**\n",
        "\n",
        "Setiap operasi matematika memiliki **urutan dalam penyelesaiannya**. Jika dalam suatu ekspresi terdapat lebih dari satu operasi, maka harus di selesaikan berdasarkan operasi yang lebih tinggi prioritasnya. Untuk lebih mudah mengingat aturannnya bisa menggunakan akronim **PEMDAS**\n",
        "\n",
        "| Akronim | Arti                                       | Urutan Operasi             |\n",
        "|---------|--------------------------------------------|----------------------------|\n",
        "| P       | Parentheses (Tanda Kurung)                 | ()                         |\n",
        "| E       | Exponents (Pangkat)                        | **                         |\n",
        "| MD      | Multiplication and Division                | *, /, %                    |\n",
        "| AS      | Addition and Subtraction                  | +, -                       |\n",
        "\n",
        "\n",
        "\n",
        "### **Parentheses (Tanda Kurung)**\n",
        "\n",
        "Tanda kurung memiliki **prioritas tertinggi** dan dapat digunakan untuk memaksa ekspresi dievaluasi dalam urutan yang diinginkan.\n",
        "\n",
        "Contoh :\n",
        "```\n",
        "2 * (3-1) = 4\n",
        "```\n",
        "\n",
        "### **Exponents (Pangkat)**\n",
        "\n",
        "Pangkat memiliki prioritas tertinggi, jadi\n",
        "```\n",
        "2**1 + 1 = 3\n",
        "```\n",
        "\n",
        "### **Multiplication dan Division**\n",
        "\n",
        "Perkalian dan pembagian memiliki prioritas yang sama, dan **lebih tinggi dari penjumlahan dan pengurangan**. Jadi\n",
        "\n",
        "```\n",
        "2 * 3 + 1 = 7 atau 3 + 10 / 2 = 8\n",
        "```\n",
        "\n",
        "### **Addition dan Substraction**\n",
        "\n",
        "Penambahan dan pengurangan memiliki **prioritas paling rendah** dibandingkan operator yang lain.\n",
        "\n",
        "```\n",
        "4 + 4 - 2 = 6\n",
        "```\n",
        "\n",
        "\n"
      ],
      "metadata": {
        "id": "3fQYW9Ht7oIm"
      }
    },
    {
      "cell_type": "markdown",
      "source": [
        "##### **Mini Exercise**\n",
        "\n",
        "1. Pak Bambang menabung di bank sebesar Rp10.000.000. Jika persentase bunga per tahun sebesar 5%, berapa besar bunga yang diterima Pak Bambang setelah 5 tahun menabung"
      ],
      "metadata": {
        "id": "Sy6Ny99KmD7X"
      }
    },
    {
      "cell_type": "code",
      "source": [
        "# Membuat variabel yang diketahui\n",
        "uang_tabungan = 10000000\n",
        "bunga = 5/100\n",
        "\n",
        "# Mencari bunga tahunan\n",
        "bunga_tahunan = uang_tabungan * bunga\n",
        "\n",
        "# mencari bunga lima tahun\n",
        "bunga_lima_tahun = bunga_tahunan * 5\n",
        "print(f\"Jadi, besar bunga yang diterima Pak Bambang selama 5 tahun adalah \\n\"\n",
        "f\"sebesar Rp{bunga_lima_tahun}\")\n",
        "\n",
        "\n"
      ],
      "metadata": {
        "colab": {
          "base_uri": "https://localhost:8080/"
        },
        "id": "WLzp9pI6mWB-",
        "outputId": "1518393e-3761-44c4-b6bc-4bc1bdb19f8f"
      },
      "execution_count": null,
      "outputs": [
        {
          "output_type": "stream",
          "name": "stdout",
          "text": [
            "Jadi, besar bunga yang diterima Pak Bambang selama 5 tahun adalah \n",
            "sebesar Rp2500000.0\n"
          ]
        }
      ]
    },
    {
      "cell_type": "markdown",
      "source": [
        "### **String**\n",
        "\n",
        "String merupakan **kumpulan huruf atau karakter yang lain**. Di Python dibuat dengan tanda kutip `('....')` atau ganda `(\"....\")`\n",
        "\n",
        "#### **String Operator**\n",
        "String operator mewakili berbagai jenis operasi yang dapat digunakan pada tipe data string. Berikut ini adalah beberapa string operator yang sering digunakan :\n",
        "\n",
        "| Operator    | Deskripsi                                | Contoh Penggunaan                  |\n",
        "|-------------|------------------------------------------|------------------------------------|\n",
        "| `+`         | Menggabungkan (concatenate) string        | `\"Hello, \" + \"world!\"` = `\"Hello, world!\"` |\n",
        "| `*`         | Mengulang string                         | `\"Hi\" * 3` = `\"HiHiHi\"`           |\n",
        "| `[]`        | Mengakses karakter tertentu dalam string | `\"Python\"[1]` = `\"y\"`             |\n",
        "| `[:]`       | Mengiris (slice) string                  | `\"Python\"[1:4]` = `\"yth\"`         |\n",
        "| `len()`     | Menghitung panjang string                | `len(\"Hello\")` = `5`              |\n",
        "| `.upper()`  | Mengubah string menjadi huruf kapital    | `\"hello\".upper()` = `\"HELLO\"`     |\n",
        "| `.lower()`  | Mengubah string menjadi huruf kecil      | `\"HELLO\".lower()` = `\"hello\"`     |\n",
        "| `.replace()`| Mengganti substring dalam string         | `\"apple\".replace(\"a\", \"A\")` = `\"Apple\"` |\n",
        "\n",
        "\n"
      ],
      "metadata": {
        "id": "7Hac3MdFomMq"
      }
    },
    {
      "cell_type": "markdown",
      "source": [
        "##### **Concatenation**"
      ],
      "metadata": {
        "id": "pfmVCTyetOn1"
      }
    },
    {
      "cell_type": "code",
      "source": [
        "# Menampilkan string operator Concatenation tanpa variabel\n",
        "print('Camel' + ' ' + 'cantik')\n",
        "\n",
        "# Menampilkan string operator Concatenation dengan variabel\n",
        "nama = \"Camel\"\n",
        "kelebihan = \"cantik\"\n",
        "\n",
        "var_gabungan = nama + ' ' + kelebihan\n",
        "print(var_gabungan)"
      ],
      "metadata": {
        "colab": {
          "base_uri": "https://localhost:8080/"
        },
        "id": "-hOb3f5wtfyO",
        "outputId": "48dae1aa-c9a3-4159-e5db-dca3578fb0e7"
      },
      "execution_count": null,
      "outputs": [
        {
          "output_type": "stream",
          "name": "stdout",
          "text": [
            "Camel cantik\n",
            "Camel cantik\n"
          ]
        }
      ]
    },
    {
      "cell_type": "markdown",
      "source": [
        "##### **Repetition**\n",
        " Mengulang n string"
      ],
      "metadata": {
        "id": "NW8Y0u-htjKG"
      }
    },
    {
      "cell_type": "code",
      "source": [
        "# menampilkan string operator repetition tanpa variabel\n",
        "print(\"Camel Cantik \\n\"*10)\n",
        "\n",
        "# Menampilkan string operator repetiion dengan variabel\n",
        "name = \"Camel\"\n",
        "plus = \"Cantik\"\n",
        "\n",
        "var_repetition = name + ' ' + plus + (\"\\n\") #\\n untuk newwline\n",
        "print(var_repetition*5)\n"
      ],
      "metadata": {
        "colab": {
          "base_uri": "https://localhost:8080/"
        },
        "id": "RXgmqHR7tr-4",
        "outputId": "4ad7331c-6a46-4785-9b1a-f0b333e26b6a"
      },
      "execution_count": null,
      "outputs": [
        {
          "output_type": "stream",
          "name": "stdout",
          "text": [
            "Camel Cantik \n",
            "Camel Cantik \n",
            "Camel Cantik \n",
            "Camel Cantik \n",
            "Camel Cantik \n",
            "Camel Cantik \n",
            "Camel Cantik \n",
            "Camel Cantik \n",
            "Camel Cantik \n",
            "Camel Cantik \n",
            "\n",
            "Camel Cantik\n",
            "Camel Cantik\n",
            "Camel Cantik\n",
            "Camel Cantik\n",
            "Camel Cantik\n",
            "\n"
          ]
        }
      ]
    },
    {
      "cell_type": "markdown",
      "source": [
        "#### **Slicing**\n",
        "Mengakses indeks dari string\n",
        "\n",
        "##### **Catatan :**\n",
        "\n",
        "- Indeks pada python dimulai dari **0**\n",
        "- Cara melakukan slicing bisa menggunakan kurung []\n"
      ],
      "metadata": {
        "id": "wxPWLUl4wLEU"
      }
    },
    {
      "cell_type": "code",
      "source": [
        "# Mengambil indeks ke lima dari susunan kata Camelia\n",
        "\n",
        "nama = \"Camelia\"\n",
        "print(nama[4])"
      ],
      "metadata": {
        "colab": {
          "base_uri": "https://localhost:8080/"
        },
        "id": "-E79O6_wt38G",
        "outputId": "a0cd9b02-6a01-48c6-8d83-ffa3b59b5683"
      },
      "execution_count": null,
      "outputs": [
        {
          "output_type": "stream",
          "name": "stdout",
          "text": [
            "l\n"
          ]
        }
      ]
    },
    {
      "cell_type": "code",
      "source": [
        "# Mengambil beberapa notasi indeks [0:5] dengan output stop-1\n",
        "print(nama[0:5])\n",
        "\n",
        "'''\n",
        "Dinamakan stop-1 karena indeks yang terambil sebenarnya 5-1 jadi\n",
        "yang terindeks itu aslinya hanya 0-4. Python dimulai dari indeks 0\n",
        "untuk karakter pertama.\n",
        "'''"
      ],
      "metadata": {
        "id": "cczAtnCyxLuH",
        "colab": {
          "base_uri": "https://localhost:8080/",
          "height": 90
        },
        "outputId": "835d17f8-5f7c-4a40-8306-9b92be5fb25d"
      },
      "execution_count": null,
      "outputs": [
        {
          "output_type": "stream",
          "name": "stdout",
          "text": [
            "Camel\n"
          ]
        },
        {
          "output_type": "execute_result",
          "data": {
            "text/plain": [
              "'\\nDinamakan stop-1 karena indeks yang terambil sebenarnya 5-1 jadi\\nyang terindeks itu aslinya hanya 0-4. Python dimulai dari indeks 0\\nuntuk karakter pertama.\\n'"
            ],
            "application/vnd.google.colaboratory.intrinsic+json": {
              "type": "string"
            }
          },
          "metadata": {},
          "execution_count": 9
        }
      ]
    },
    {
      "cell_type": "code",
      "source": [
        "# Mengambil semua notasi indeks degan [:]\n",
        "print(nama[:])"
      ],
      "metadata": {
        "colab": {
          "base_uri": "https://localhost:8080/"
        },
        "id": "W-bvbjLAY8-T",
        "outputId": "9b6e6372-e7b1-4615-9c94-94eb4378c59f"
      },
      "execution_count": null,
      "outputs": [
        {
          "output_type": "stream",
          "name": "stdout",
          "text": [
            "Camelia\n"
          ]
        }
      ]
    },
    {
      "cell_type": "code",
      "source": [
        "# Mengambil semua notasi dengan karakter tertentu di awal [3:]\n",
        "print(nama[1:])"
      ],
      "metadata": {
        "colab": {
          "base_uri": "https://localhost:8080/"
        },
        "id": "X6zsHZ7ZaXPu",
        "outputId": "a88de04c-d52d-4db5-e829-8f89e4bf8061"
      },
      "execution_count": null,
      "outputs": [
        {
          "output_type": "stream",
          "name": "stdout",
          "text": [
            "amelia\n"
          ]
        }
      ]
    },
    {
      "cell_type": "code",
      "source": [
        "# Mengambil semua notasi dengan karakter tertentu di akhir [:6]\n",
        "print(nama[:6])\n",
        "\n",
        "'''\n",
        "Indeks yang diambil bebas [:] terpenting akan stop di indeks ke-6\n",
        "atau huruf i\n",
        "'''"
      ],
      "metadata": {
        "colab": {
          "base_uri": "https://localhost:8080/",
          "height": 72
        },
        "id": "yXRqcpNlalXu",
        "outputId": "52d5f624-9a23-4705-df92-a7984c0f034e"
      },
      "execution_count": null,
      "outputs": [
        {
          "output_type": "stream",
          "name": "stdout",
          "text": [
            "Cameli\n"
          ]
        },
        {
          "output_type": "execute_result",
          "data": {
            "text/plain": [
              "'\\nIndeks yang diambil bebas [:] terpenting akan stop di indeks ke-6 \\natau huruf i\\n'"
            ],
            "application/vnd.google.colaboratory.intrinsic+json": {
              "type": "string"
            }
          },
          "metadata": {},
          "execution_count": 12
        }
      ]
    },
    {
      "cell_type": "code",
      "source": [
        "# Mengambil semua notasi dengan indeks negatif\n",
        "nama_barang = \"Jam Tangan\"\n",
        "print(nama_barang[-3])"
      ],
      "metadata": {
        "colab": {
          "base_uri": "https://localhost:8080/"
        },
        "id": "oFFJV66FdSr2",
        "outputId": "ed92254b-c787-4cda-f710-12398bfa749e"
      },
      "execution_count": null,
      "outputs": [
        {
          "output_type": "stream",
          "name": "stdout",
          "text": [
            "g\n"
          ]
        }
      ]
    },
    {
      "cell_type": "markdown",
      "source": [
        "##### **Mini Exercise**\n",
        "\n",
        "1. Bos kita menyuruh untuk mengambil data penjualan di bulan tertentu. Bagaimana cara anda untuk mendapatkan hanya bulannya saja di tanggal transaksi tersebut ?\n",
        "\n",
        "tgl_transaksi_1 = \"02-08-2023\"\n",
        "\n",
        "tgl_transaksi_2 = \"04-09-2023\""
      ],
      "metadata": {
        "id": "ArVd97XSWY7D"
      }
    },
    {
      "cell_type": "code",
      "source": [
        "# Membuat variabel diketahui\n",
        "tgl_transaksi_1 = \"02-08-2023\"\n",
        "tgl_transaksi_2 = \"04-09-2023\"\n",
        "\n",
        "#membuat variabel indeks\n",
        "month_transaction_1 = tgl_transaksi_1[3:5]\n",
        "month_transaction_2 = tgl_transaksi_2[3:5]\n",
        "print(f\"Jadi, transaksi yang diminta Pak Bos ada \\n\"\n",
        "f\"di bulan {month_transaction_1} dan bulan {month_transaction_2}.\")"
      ],
      "metadata": {
        "colab": {
          "base_uri": "https://localhost:8080/"
        },
        "id": "tccpsDwjXm_V",
        "outputId": "430d3c85-1e44-42c9-a990-45f5e563acc3"
      },
      "execution_count": null,
      "outputs": [
        {
          "output_type": "stream",
          "name": "stdout",
          "text": [
            "Jadi, transaksi yang diminta Pak Bos ada \n",
            "di bulan 08 dan bulan 09.\n"
          ]
        }
      ]
    },
    {
      "cell_type": "markdown",
      "source": [
        "##### **String Methods**\n",
        "\n",
        "Ada beberapa macam string methods di Python :\n",
        "\n",
        "| Metode                | Deskripsi                                                                                 | Contoh Penggunaan                    |\n",
        "|-----------------------|------------------------------------------------------------------------------------------|--------------------------------------|\n",
        "| `str.upper()`         | Mengubah semua karakter dalam string menjadi huruf besar.                                | `\"hello\".upper()`                    |\n",
        "| `str.lower()`         | Mengubah semua karakter dalam string menjadi huruf kecil.                                | `\"Hello\".lower()`                    |\n",
        "| `str.capitalize()`    | Mengubah karakter pertama dalam string menjadi huruf besar.                               | `\"hello world\".capitalize()`         |\n",
        "| `str.title()`         | Mengubah setiap kata pertama dalam string menjadi huruf besar.                            | `\"hello world\".title()`              |\n",
        "| `str.strip()`         | Menghapus spasi dan karakter newline di awal dan akhir string.                            | `\"  hello  \".strip()`                |\n",
        "| `str.replace(old, new)` | Menggantikan semua kemunculan substring lama dengan substring baru.                 | `\"hello world\".replace(\"hello\", \"hi\")`|\n",
        "| `str.find(sub)`       | Mengembalikan indeks pertama dari substring yang dicari dalam string, atau -1 jika tidak ditemukan. | `\"hello\".find(\"e\")`                |\n",
        "| `str.startswith(prefix)` | Memeriksa apakah string dimulai dengan prefix yang diberikan.                        | `\"hello\".startswith(\"he\")`           |\n",
        "| `str.endswith(suffix)` | Memeriksa apakah string diakhiri dengan akhiran yang diberikan.                      | `\"hello\".endswith(\"lo\")`             |\n",
        "| `str.split(sep)`      | Memisahkan string menjadi daftar substring berdasarkan pemisah yang diberikan.            | `\"hello world\".split(\" \")`           |\n",
        "| `str.join(iterable)`  | Menggabungkan elemen-elemen iterable menjadi satu string menggunakan string pemisah.      | `\" \".join([\"hello\", \"world\"])`       |\n",
        "| `str.count(sub)`      | Menghitung berapa kali substring muncul dalam string.                                     | `\"hello hello\".count(\"hello\")`       |\n"
      ],
      "metadata": {
        "id": "dGn1OptiYrEC"
      }
    },
    {
      "cell_type": "code",
      "source": [
        "# Tambahan string methode len()\n",
        "nama = \"Camelia Regista\"\n",
        "print(len(nama))"
      ],
      "metadata": {
        "colab": {
          "base_uri": "https://localhost:8080/"
        },
        "id": "SnHDglQbYgI4",
        "outputId": "91f727f2-2e2a-49ff-cf96-5fd776c46135"
      },
      "execution_count": null,
      "outputs": [
        {
          "output_type": "stream",
          "name": "stdout",
          "text": [
            "15\n"
          ]
        }
      ]
    }
  ]
}